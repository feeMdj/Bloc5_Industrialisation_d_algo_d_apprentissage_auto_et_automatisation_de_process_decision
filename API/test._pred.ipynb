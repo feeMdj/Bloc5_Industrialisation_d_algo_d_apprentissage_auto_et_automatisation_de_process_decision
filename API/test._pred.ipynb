{
 "cells": [
  {
   "cell_type": "code",
   "execution_count": 1,
   "metadata": {},
   "outputs": [],
   "source": [
    "import requests\n",
    "import json"
   ]
  },
  {
   "cell_type": "code",
   "execution_count": 2,
   "metadata": {},
   "outputs": [
    {
     "name": "stdout",
     "output_type": "stream",
     "text": [
      "Welcome to the getaround pricing API `/` is the most simple endpoint for the API, for more informations please check the documentation using `/docs`\n"
     ]
    }
   ],
   "source": [
    "resp = requests.get(\"https://getaround-api-f.herokuapp.com/\")\n",
    "\n",
    "print(resp.json())"
   ]
  },
  {
   "cell_type": "code",
   "execution_count": 3,
   "metadata": {},
   "outputs": [
    {
     "name": "stdout",
     "output_type": "stream",
     "text": [
      "{'prediction': 101.04792012954937}\n"
     ]
    }
   ],
   "source": [
    "response2 = requests.post(\"https://getaround-api-f.herokuapp.com/predict\", json = {\n",
    "\"model_key\": \"BMW\",\n",
    "\"mileage\": 1000,\n",
    "\"engine_power\": 20,\n",
    "\"fuel\": \"petrol\",\n",
    "\"paint_color\": \"grey\",\n",
    "\"car_type\": \"sedan\",\n",
    "\"private_parking_available\": True,\n",
    "\"has_gps\": True,\n",
    "\"has_air_conditioning\": True,\n",
    "\"automatic_car\": False,\n",
    "\"has_getaround_connect\": True,\n",
    "\"has_speed_regulator\": True,\n",
    "\"winter_tires\": True\n",
    "})\n",
    "\n",
    "print(response2.json())\n"
   ]
  },
  {
   "cell_type": "code",
   "execution_count": null,
   "metadata": {},
   "outputs": [],
   "source": []
  }
 ],
 "metadata": {
  "kernelspec": {
   "display_name": "base",
   "language": "python",
   "name": "python3"
  },
  "language_info": {
   "codemirror_mode": {
    "name": "ipython",
    "version": 3
   },
   "file_extension": ".py",
   "mimetype": "text/x-python",
   "name": "python",
   "nbconvert_exporter": "python",
   "pygments_lexer": "ipython3",
   "version": "3.9.12"
  },
  "orig_nbformat": 4,
  "vscode": {
   "interpreter": {
    "hash": "88de8a03d390c9821a705f8812eeaeda47efe29e530260f109fd5a47346b85c0"
   }
  }
 },
 "nbformat": 4,
 "nbformat_minor": 2
}
